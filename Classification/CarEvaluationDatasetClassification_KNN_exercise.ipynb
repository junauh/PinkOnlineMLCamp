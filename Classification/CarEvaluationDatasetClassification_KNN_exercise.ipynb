{
 "cells": [
  {
   "cell_type": "markdown",
   "metadata": {},
   "source": [
    "# Car Evaluation Dataset Classification (exercise) - KNN"
   ]
  },
  {
   "cell_type": "markdown",
   "metadata": {},
   "source": [
    "<img src=\"https://www.volvocars.com/images/v/fr-be/v/-/media/project/contentplatform/data/media/img/promotional-unit/hero.png?h=1440&iar=0&w=2560\" width =\"500\" height=500 > "
   ]
  },
  {
   "cell_type": "markdown",
   "metadata": {},
   "source": [
    "Title: Car Evaluation Database\n",
    "\n",
    "\n",
    "Car Evaluation Database was derived from a simple hierarchical decision model originally developed for the demonstration of DEX (M. Bohanec, V. Rajkovic: Expert system for decision making. Sistemica 1(1), pp. 145-157, 1990.). The model evaluates cars according to the following concept structure:"
   ]
  },
  {
   "cell_type": "markdown",
   "metadata": {},
   "source": [
    "   CAR                      car acceptability\n",
    "   . PRICE                  overall price\n",
    "   . . buying               buying price\n",
    "   . . maint                price of the maintenance\n",
    "   . TECH                   technical characteristics\n",
    "   . . COMFORT              comfort\n",
    "   . . . doors              number of doors\n",
    "   . . . persons            capacity in terms of persons to carry\n",
    "   . . . lug_boot           the size of luggage boot\n",
    "   . . safety               estimated safety of the car"
   ]
  },
  {
   "cell_type": "markdown",
   "metadata": {},
   "source": [
    "Input attributes are printed in lowercase. Besides the target concept (CAR), the model includes three intermediate concepts: PRICE, TECH, COMFORT. Every concept is in the original model related to its lower level descendants by a set of examples.\n"
   ]
  },
  {
   "cell_type": "markdown",
   "metadata": {},
   "source": [
    "Number of Instances: 1728\\\n",
    "Number of Attributes: 6"
   ]
  },
  {
   "cell_type": "markdown",
   "metadata": {},
   "source": [
    "Attribute Information:\n",
    "\n",
    "Class Values:\n",
    "unacc, acc, good, vgood\n",
    "\n",
    "Attribute Values:\n",
    "\n",
    "   buying       v-high, high, med, low\n",
    "   maint        v-high, high, med, low\n",
    "   doors        2, 3, 4, 5-more\n",
    "   persons      2, 4, more\n",
    "   lug_boot     small, med, big\n",
    "   safety       low, med, high"
   ]
  },
  {
   "cell_type": "markdown",
   "metadata": {},
   "source": [
    "### Background Knowledge you may need:\n",
    "KNeighborsClassifier Methods\n",
    "\n",
    "1. fit(X, y): Fit the model using X as training data and y as target values\n",
    "\n",
    "2. get_params([deep]):Get parameters for this estimator.\n",
    "\n",
    "3. kneighbors([X, n_neighbors, return_distance]): Finds the K-neighbors of a point.\n",
    "\n",
    "4. kneighbors_graph([X, n_neighbors, mode]: Computes the (weighted) graph of k-Neighbors for points in X\n",
    "\n",
    "5. predict(X): Predict the class labels for the provided data.\n",
    "\n",
    "6. predict_proba(X): Return probability estimates for the test data X.\n",
    "\n",
    "7. score(X, y[, sample_weight]): Return the mean accuracy on the given test data and labels.\n",
    "\n",
    "8. set_params(**params): Set the parameters of this estimator."
   ]
  },
  {
   "cell_type": "code",
   "execution_count": 12,
   "metadata": {},
   "outputs": [],
   "source": [
    "#import libraries-numpy, pandas, seaborn\n",
    "import matplotlib.pyplot as plt\n",
    "import seaborn as sns\n"
   ]
  },
  {
   "cell_type": "code",
   "execution_count": null,
   "metadata": {},
   "outputs": [],
   "source": [
    "# Import and read the data file. \n",
    "# Do you remeber how to remove the column \"Unnamed\" from our Pandas Introduction"
   ]
  },
  {
   "cell_type": "code",
   "execution_count": null,
   "metadata": {},
   "outputs": [],
   "source": [
    "# check the first several rows of your DataFrame(Optional)"
   ]
  },
  {
   "cell_type": "code",
   "execution_count": 16,
   "metadata": {},
   "outputs": [
    {
     "name": "stdout",
     "output_type": "stream",
     "text": [
      "<class 'pandas.core.frame.DataFrame'>\n",
      "RangeIndex: 1728 entries, 0 to 1727\n",
      "Data columns (total 8 columns):\n",
      " #   Column      Non-Null Count  Dtype \n",
      "---  ------      --------------  ----- \n",
      " 0   Unnamed: 0  1728 non-null   int64 \n",
      " 1   buying      1728 non-null   object\n",
      " 2   maint       1728 non-null   object\n",
      " 3   doors       1728 non-null   object\n",
      " 4   persons     1728 non-null   object\n",
      " 5   lug_boot    1728 non-null   object\n",
      " 6   safety      1728 non-null   object\n",
      " 7   class       1728 non-null   object\n",
      "dtypes: int64(1), object(7)\n",
      "memory usage: 108.1+ KB\n"
     ]
    }
   ],
   "source": [
    "# Get to know more details about your dataset, eg. the number of rows and columns(Optional)\n"
   ]
  },
  {
   "cell_type": "code",
   "execution_count": 17,
   "metadata": {},
   "outputs": [
    {
     "data": {
      "text/plain": [
       "<matplotlib.axes._subplots.AxesSubplot at 0x1a1f804e90>"
      ]
     },
     "execution_count": 17,
     "metadata": {},
     "output_type": "execute_result"
    },
    {
     "data": {
      "image/png": "[encoded data removed]",
      "text/plain": [
       "<Figure size 432x288 with 1 Axes>"
      ]
     },
     "metadata": {
      "needs_background": "light"
     },
     "output_type": "display_data"
    }
   ],
   "source": [
    "# Plot the output distribution with seaborn\n",
    "sns.countplot(data['class'])"
   ]
  },
  {
   "cell_type": "markdown",
   "metadata": {},
   "source": [
    "# KNN Classifier\n",
    "\n"
   ]
  },
  {
   "cell_type": "markdown",
   "metadata": {},
   "source": [
    "As scikit-learn algorithms do not generally work with string values, I've converted string categories to integers.\n",
    "\n"
   ]
  },
  {
   "cell_type": "code",
   "execution_count": 49,
   "metadata": {},
   "outputs": [],
   "source": [
    "from sklearn.preprocessing import LabelEncoder\n",
    "le=LabelEncoder()\n",
    "for i in data.columns:\n",
    "    data[i]=le.fit_transform(data[i])"
   ]
  },
  {
   "cell_type": "code",
   "execution_count": 64,
   "metadata": {},
   "outputs": [],
   "source": [
    "# Get libray of sklearn.model_selection.train_test_split: Split arrays or matrices into random train and test subsets\n",
    "# from *** import ***\n",
    "\n",
    "# Pick inputs/features and assign to X\n",
    "X = \n",
    "# Pick outpus/labels and assign to y\n",
    "y = \n",
    "# Spilt X and y to training set and testing set\n"
   ]
  },
  {
   "cell_type": "code",
   "execution_count": 65,
   "metadata": {},
   "outputs": [],
   "source": [
    "# Import library sklearn.neighbors.KNeighborsClassifier\n",
    "\n",
    "# build classifier\n",
    "knn="
   ]
  },
  {
   "cell_type": "code",
   "execution_count": null,
   "metadata": {},
   "outputs": [],
   "source": [
    "# Feed the training data to the model\n",
    "\n",
    "# Apply the testing data to the model\n",
    "\n",
    "# Evaluate the accurracy\n",
    "# 1. you can calculate yourself\n",
    "# 2. you can use libray \n"
   ]
  }
 ],
 "metadata": {
  "kernelspec": {
   "display_name": "Python 3",
   "language": "python",
   "name": "python3"
  },
  "language_info": {
   "codemirror_mode": {
    "name": "ipython",
    "version": 3
   },
   "file_extension": ".py",
   "mimetype": "text/x-python",
   "name": "python",
   "nbconvert_exporter": "python",
   "pygments_lexer": "ipython3",
   "version": "3.7.6"
  }
 },
 "nbformat": 4,
 "nbformat_minor": 4
}
